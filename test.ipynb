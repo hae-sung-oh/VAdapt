{
 "cells": [
  {
   "cell_type": "code",
   "execution_count": 1,
   "metadata": {},
   "outputs": [],
   "source": [
    "!export CARLA_ROOT=/home/ohs-dyros/carla\n",
    "!export CARLA_SERVER=${CARLA_ROOT}/CarlaUE4.sh\n",
    "!export PYTHONPATH=$PYTHONPATH:${CARLA_ROOT}/PythonAPI\n",
    "!export PYTHONPATH=$PYTHONPATH:${CARLA_ROOT}/PythonAPI/carla\n",
    "!export PYTHONPATH=$PYTHONPATH:$CARLA_ROOT/PythonAPI/carla/dist/carla-0.9.12-py3.8-linux-x86_64.egg\n",
    "!export PYTHONPATH=$PYTHONPATH:leaderboard\n",
    "!export PYTHONPATH=$PYTHONPATH:leaderboard/team_code\n",
    "!export PYTHONPATH=$PYTHONPATH:scenario_runner"
   ]
  },
  {
   "cell_type": "code",
   "execution_count": 2,
   "metadata": {},
   "outputs": [],
   "source": [
    "import sys\n",
    "\n",
    "sys.path.insert(0, \"/home/ohs-dyros/carla/PythonAPI/carla\")\n",
    "import agents\n",
    "\n",
    "routes_path = \"/home/ohs-dyros/gitRepo/InterFuser/leaderboard/data/training_routes/routes_town05_long.xml\"\n",
    "scenarios_path = \"/home/ohs-dyros/gitRepo/InterFuser/leaderboard/data/scenarios/town05_all_scenarios.json\"\n",
    "\n",
    "sys.path.append(\"/home/ohs-dyros/gitRepo/InterFuser\")\n",
    "sys.path.append(\"/home/ohs-dyros/gitRepo/InterFuser/scenario_runner\")\n",
    "sys.path.append(\"/home/ohs-dyros/gitRepo/InterFuser/leaderboard\")\n",
    "from leaderboard.utils.route_indexer import RouteIndexer\n",
    "\n",
    "idx = RouteIndexer(routes_path, scenarios_path, 1)"
   ]
  },
  {
   "cell_type": "code",
   "execution_count": 3,
   "metadata": {},
   "outputs": [
    {
     "data": {
      "text/plain": [
       "True"
      ]
     },
     "execution_count": 3,
     "metadata": {},
     "output_type": "execute_result"
    }
   ],
   "source": [
    "idx.peek()"
   ]
  },
  {
   "cell_type": "code",
   "execution_count": 5,
   "metadata": {},
   "outputs": [
    {
     "data": {
      "text/plain": [
       "<srunner.scenarioconfigs.route_scenario_configuration.RouteScenarioConfiguration at 0x7f2a70665d30>"
      ]
     },
     "execution_count": 5,
     "metadata": {},
     "output_type": "execute_result"
    }
   ],
   "source": [
    "idx.next()"
   ]
  },
  {
   "cell_type": "code",
   "execution_count": 5,
   "metadata": {},
   "outputs": [],
   "source": [
    "import os\n",
    "import glob\n",
    "import sys\n",
    "import random\n",
    "\n",
    "CARLA_ROOT = os.getenv(\"CARLA_ROOT\")\n",
    "try:\n",
    "    sys.path.append(\n",
    "        glob.glob(\n",
    "            CARLA_ROOT\n",
    "            + \"/PythonAPI/carla/dist/carla-*%d.%d-%s.egg\"\n",
    "            % (\n",
    "                sys.version_info.major,\n",
    "                sys.version_info.minor,\n",
    "                \"win-amd64\" if os.name == \"nt\" else \"linux-x86_64\",\n",
    "            )\n",
    "        )[0]\n",
    "    )\n",
    "except IndexError as e:\n",
    "    pass\n",
    "\n",
    "import carla"
   ]
  },
  {
   "cell_type": "code",
   "execution_count": 10,
   "metadata": {},
   "outputs": [],
   "source": [
    "client = carla.Client(\"127.0.0.1\", 2000)\n",
    "client.set_timeout(10.0)\n",
    "world = client.get_world()\n",
    "spawn_points = world.get_map().get_spawn_points()\n",
    "bp_lib = world.get_blueprint_library()\n",
    "# spawn_point = random.choice(spawn_points)\n",
    "vehicle_bp = bp_lib.find(\"vehicle.lincoln.mkz_2017\")\n",
    "vehicle = world.spawn_actor(vehicle_bp, spawn_point)"
   ]
  },
  {
   "cell_type": "code",
   "execution_count": 11,
   "metadata": {},
   "outputs": [
    {
     "data": {
      "text/plain": [
       "True"
      ]
     },
     "execution_count": 11,
     "metadata": {},
     "output_type": "execute_result"
    },
    {
     "ename": "",
     "evalue": "",
     "output_type": "error",
     "traceback": [
      "\u001b[1;31mThe Kernel crashed while executing code in the current cell or a previous cell. \n",
      "\u001b[1;31mPlease review the code in the cell(s) to identify a possible cause of the failure. \n",
      "\u001b[1;31mClick <a href='https://aka.ms/vscodeJupyterKernelCrash'>here</a> for more info. \n",
      "\u001b[1;31mView Jupyter <a href='command:jupyter.viewOutput'>log</a> for further details."
     ]
    }
   ],
   "source": [
    "vehicle.destroy()"
   ]
  },
  {
   "cell_type": "code",
   "execution_count": 2,
   "metadata": {},
   "outputs": [
    {
     "ename": "",
     "evalue": "",
     "output_type": "error",
     "traceback": [
      "\u001b[1;31mThe Kernel crashed while executing code in the current cell or a previous cell. \n",
      "\u001b[1;31mPlease review the code in the cell(s) to identify a possible cause of the failure. \n",
      "\u001b[1;31mClick <a href='https://aka.ms/vscodeJupyterKernelCrash'>here</a> for more info. \n",
      "\u001b[1;31mView Jupyter <a href='command:jupyter.viewOutput'>log</a> for further details."
     ]
    }
   ],
   "source": [
    "from filelock import FileLock\n",
    "import numpy as np\n",
    "\n",
    "temp = np.empty((1, 1))\n",
    "name = \"temp.npy\"\n",
    "with FileLock(f\"{name}.lock\"):\n",
    "    np.save(name, temp, allow_pickle=False)"
   ]
  }
 ],
 "metadata": {
  "kernelspec": {
   "display_name": "Python 3",
   "language": "python",
   "name": "python3"
  },
  "language_info": {
   "codemirror_mode": {
    "name": "ipython",
    "version": 3
   },
   "file_extension": ".py",
   "mimetype": "text/x-python",
   "name": "python",
   "nbconvert_exporter": "python",
   "pygments_lexer": "ipython3",
   "version": "3.8.10"
  }
 },
 "nbformat": 4,
 "nbformat_minor": 2
}
